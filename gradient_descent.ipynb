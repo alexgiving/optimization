{
 "cells": [
  {
   "cell_type": "markdown",
   "metadata": {},
   "source": [
    "# Лабораторная работа №1\n",
    "## Градиентный спуск\n",
    "Трутнев Алексей Игоревич вариант №5"
   ]
  },
  {
   "cell_type": "code",
   "execution_count": 1,
   "metadata": {},
   "outputs": [],
   "source": [
    "import time\n",
    "from dataclasses import dataclass, field\n",
    "from collections import defaultdict\n",
    "from typing import Dict, List\n",
    "\n",
    "import numpy as np\n",
    "from numpy.typing import NDArray\n",
    "from typing import Callable\n",
    "from matplotlib import pyplot as plt\n",
    "\n",
    "import cvxpy as cp"
   ]
  },
  {
   "cell_type": "markdown",
   "metadata": {},
   "source": [
    "Задача оптимизации\n",
    "\n",
    "$\\min\\{ (x-\\mu_0)^\\top A (x-\\mu_0) : ||x||_2^2 \\leq 1 \\}$, где\n",
    "* $x \\in \\mathbb{R}^n$, $A$ - симметричная, положительно определенная матрица\n",
    "* $\\mu_0 = (1,1,\\dots,1)^\\top \\in \\mathbb{R}^n$"
   ]
  },
  {
   "cell_type": "code",
   "execution_count": 2,
   "metadata": {},
   "outputs": [],
   "source": [
    "def function(x: NDArray, A: NDArray, mu: NDArray) -> float:\n",
    "    return (x - mu).T @ A @ (x - mu)\n",
    "\n",
    "\n",
    "def limitation(x: NDArray) -> float:\n",
    "    return np.sum(np.power(x, 2))"
   ]
  },
  {
   "cell_type": "code",
   "execution_count": 3,
   "metadata": {},
   "outputs": [],
   "source": [
    "def check_symmetric(A: NDArray) -> bool:\n",
    "    return (A==A.T).all()\n",
    "\n",
    "\n",
    "def check_positive_definition(A: NDArray) -> bool:\n",
    "    n = A.shape[0]\n",
    "    test_x = np.random.random(n)\n",
    "    return (test_x.T @ A @ test_x) > 0\n",
    "\n",
    "\n",
    "def get_symmetric_matrix(n: int) -> NDArray:\n",
    "    A = np.random.rand(n, n)\n",
    "    matrix = A @ A.T\n",
    "    assert check_symmetric(matrix) and check_positive_definition(matrix)\n",
    "    return matrix"
   ]
  },
  {
   "cell_type": "markdown",
   "metadata": {},
   "source": [
    "### Ограничение\n",
    "$c(x) = ||x||_2^2 = \\sum_{i=1}^{n} x_i^2 \\leq 1$, где $x = (x_1, x_2, \\dots, x_n)^\\top \\in \\mathbb{R}^n$\n",
    "\n",
    "Градиент имеет вид: $\\nabla c(x) = (2x_1, 2x_2, \\dots, 2x_n)^\\top = 2x \\in \\mathbb{R}^n$\n",
    "\n",
    "\n",
    "### Функция\n",
    "$f(x) = (x-\\mu_0)^\\top A (x-\\mu_0)$\n",
    "\n",
    "Градиент имеет вид: $\\nabla x^\\top A x = (A+A^\\top)x =$ [при симметричной матрице $A$] $= 2Ax$"
   ]
  },
  {
   "cell_type": "code",
   "execution_count": 4,
   "metadata": {},
   "outputs": [],
   "source": [
    "def grad_function(x: NDArray, A: NDArray, mu: NDArray) -> NDArray:\n",
    "    return 2 * A @ (x - mu)\n",
    "\n",
    "\n",
    "def grad_limitation(x: NDArray) -> NDArray:\n",
    "    return 2 * x"
   ]
  },
  {
   "cell_type": "code",
   "execution_count": 5,
   "metadata": {},
   "outputs": [],
   "source": [
    "def check_optimality(x: NDArray, A: NDArray, mu: NDArray) -> bool:\n",
    "    return grad_limitation(x) @ -grad_function(x, A, mu) >= 0"
   ]
  },
  {
   "cell_type": "markdown",
   "metadata": {},
   "source": [
    "1. Исследование на выпуклость"
   ]
  },
  {
   "cell_type": "markdown",
   "metadata": {},
   "source": [
    "Дана функция $f(x)=(x-\\mu_0)^\\top A (x-\\mu_0)$, где $A \\in \\mathbb{R}^{n^2}$ - симметричная, положительно определенная матрица.\n",
    "Из лекций можно сделать вывод, что если $A$ - положительно определенная матрица, то функция $f(x)$ -  выпуклая.\n",
    "\n",
    "\n",
    "Проверим этот факт через условие выпуклости:\n",
    "\n",
    "$f(\\lambda x + (1− \\lambda)y) \\leq \\lambda f(x) + (1− \\lambda)f(y)$, где $0 \\geq \\lambda \\leq 1$\n"
   ]
  },
  {
   "cell_type": "code",
   "execution_count": 19,
   "metadata": {},
   "outputs": [
    {
     "data": {
      "text/plain": [
       "True"
      ]
     },
     "execution_count": 19,
     "metadata": {},
     "output_type": "execute_result"
    }
   ],
   "source": [
    "test_n = 100\n",
    "test_A = get_symmetric_matrix(test_n)\n",
    "\n",
    "test_mu = np.ones(test_n)\n",
    "test_x = np.random.random(test_n)\n",
    "test_y = np.random.random(test_n)\n",
    "\n",
    "\n",
    "def test(test_x: NDArray, test_y: NDArray, test_A: NDArray, test_mu: NDArray, test_lambda: float) -> bool:\n",
    "    return function(test_lambda*test_x + (1-test_lambda)*test_y, test_A, test_mu) \\\n",
    "            <= test_lambda * function(test_x, test_A, test_mu) + (1-test_lambda) * function(test_y, test_A, test_mu)\n",
    "\n",
    "results = [\n",
    "    test(test_x, test_y, test_A, test_mu, test_lambda) for test_lambda in np.linspace(0, 1, 10)\n",
    "]\n",
    "\n",
    "all(results)"
   ]
  },
  {
   "cell_type": "markdown",
   "metadata": {},
   "source": [
    "2. Для каждого значения $n \\in \\{10, 20,\\dots, 100\\}$ сгенерируйте $N = 100$ тестовых примеров. В каждом случае найдите глобальный минимум, $x^* \\in \\mathbb{R}^n$, с помощью CVX. Проверьте, что в точке минимума выполняется условие оптимальности (т.е. вектора градиента к ограничению и антиградиента к целевой функции сонаправлены).\n"
   ]
  },
  {
   "cell_type": "markdown",
   "metadata": {},
   "source": [
    "### Описаие тестовых данных\n",
    "\n",
    "Для проведения экспериментов согдана система хранения данных для экспериментов:\n",
    "\n",
    "* Размерность задачи $\\{10, 20, \\dots, 100\\}$\n",
    "    * Для каждого из них свой набор из 100 тестовых згначений матрицы $A$\n",
    "        * Для каждого из значения $A$ свой набор стартовых точек $x_{0}$"
   ]
  },
  {
   "cell_type": "code",
   "execution_count": 7,
   "metadata": {},
   "outputs": [],
   "source": [
    "@dataclass\n",
    "class TestCase:\n",
    "    A: NDArray\n",
    "    default_x: list[NDArray] = field(default_factory=list)\n",
    "    solver_x: NDArray = None\n",
    "    my_x: list[NDArray] = field(default_factory=list)\n",
    "    num_iterations: list[int] = field(default_factory=list)\n",
    "    time: list[int] = field(default_factory=list)\n",
    "    accuracy: list[float] = field(default_factory=list)\n",
    "\n",
    "\n",
    "def generate_data(min_dim: int, max_dim: int, step_dim: int, num_test_cases: int, num_experiments: int) -> Dict[int, List[TestCase]]:\n",
    "    dimensionality_range = range(min_dim, max_dim+1, step_dim)\n",
    "\n",
    "    data = defaultdict(list)\n",
    "    for n in dimensionality_range:\n",
    "        for _ in range(num_test_cases):\n",
    "            A = get_symmetric_matrix(n)\n",
    "            test_case = TestCase(A)\n",
    "            for _ in range(num_experiments):\n",
    "                x = np.random.random(n)\n",
    "                test_case.default_x.append(x)\n",
    "            data[n].append(test_case)\n",
    "    return data"
   ]
  },
  {
   "cell_type": "code",
   "execution_count": 8,
   "metadata": {},
   "outputs": [],
   "source": [
    "test_data = generate_data(\n",
    "    min_dim=10,\n",
    "    max_dim=10,\n",
    "    step_dim=10,\n",
    "    num_test_cases=100,\n",
    "    num_experiments=100\n",
    "    )"
   ]
  },
  {
   "cell_type": "code",
   "execution_count": 9,
   "metadata": {},
   "outputs": [],
   "source": [
    "float_calculation_tol = 1e-6\n",
    "\n",
    "for n, test_cases in test_data.items():\n",
    "    mu = np.ones(n)\n",
    "\n",
    "    for test_case in test_cases:\n",
    "        x_started = test_case.default_x[0]\n",
    "\n",
    "        x = cp.Variable(n)\n",
    "        optimization_func = cp.quad_form(x=(x - mu), P=test_case.A)\n",
    "        objective = cp.Minimize(optimization_func)\n",
    "\n",
    "        constraints = [\n",
    "            cp.sum_squares(x) <= 1\n",
    "        ]\n",
    "\n",
    "        problem = cp.Problem(objective, constraints)\n",
    "        problem.solve(solver=cp.SCS)\n",
    "\n",
    "        test_case.solver_x = x.value\n",
    "\n",
    "        if not check_optimality(x.value, test_case.A, mu):\n",
    "            print(f'Optimality condition is not satisfied.')\n",
    "\n",
    "        if limitation(x.value) - 1 > float_calculation_tol:\n",
    "            print('Constraint error')"
   ]
  },
  {
   "cell_type": "markdown",
   "metadata": {},
   "source": [
    "В данном эксперименте мы воспользовались библиотекой *cvxpy* и солвером *SCS* для решения выпуклой задачи оптимизации с ограничениями."
   ]
  },
  {
   "cell_type": "markdown",
   "metadata": {},
   "source": [
    "3. Для каждого значения $n \\in \\{10, 20,\\dots, 100\\}$ и для каждого тестового примера сгенерируйте 100 начальных точек. В зависимости от варианта реализуйте следующие методы решения задачи (1) для заданной точности $\\epsilon = 0.011$."
   ]
  },
  {
   "cell_type": "markdown",
   "metadata": {},
   "source": [
    "### Градиентный спуск c *Exact Line Search*\n",
    "\n",
    "Повторять, пока не достигнуто условие остановки $||\\nabla f(x)||_{2} \\leq \\epsilon$, где $\\epsilon > 0$:\n",
    "1. Определить градиент функции в точке $\\Delta x = \\nabla f(x)$.\n",
    "2. *Exact Line Search*. Определить шаг алгоритма $s \\geq 0$:\n",
    "    1. Найти такой шаг градиента $s$ (*learning rate*), который приводит к наиболее оптимальному решению: $\\argmin_{s \\geq 0}f(x - s \\Delta x)$\n",
    "3. Обновление точки. $x = x - s\\Delta x$.\n"
   ]
  },
  {
   "cell_type": "code",
   "execution_count": 10,
   "metadata": {},
   "outputs": [],
   "source": [
    "def print_iteration(iteration: int, y: int, x: NDArray) -> None:\n",
    "    print(f'Iteration {iteration}, y: {y}, x: {x}')\n",
    "\n",
    "\n",
    "def get_exact_line_alpha(func: Callable,\n",
    "                         x: NDArray, A: NDArray, mu: NDArray, delta_x: NDArray,\n",
    "                         max_s: float = 1., step_s: float = 0.001) -> float:\n",
    "    s_values = np.arange(0, max_s, step_s)\n",
    "    func_results = [func(x-s*delta_x, A, mu) for s in s_values]\n",
    "    return s_values[np.argmin(func_results)]\n",
    "\n",
    "\n",
    "@dataclass\n",
    "class GradDescentResult:\n",
    "    x: NDArray\n",
    "    y: float\n",
    "    time: float\n",
    "    iterations: int\n",
    "    accuracy: float\n",
    "\n",
    "\n",
    "def grad_desc_exact_line(*,\n",
    "                    x: NDArray,\n",
    "                    A: NDArray,\n",
    "                    func: Callable,\n",
    "                    grad_func: Callable,\n",
    "                    epsilon: float = 1.1e-2,\n",
    "                    max_iters: int = 1e3,\n",
    "                    max_s: float = 1.,\n",
    "                    step_s: float = 1e-3,\n",
    "                    verbose: bool = False) -> GradDescentResult:\n",
    "    \"\"\"\n",
    "    gradient descent with exact line minimization\n",
    "    \"\"\"\n",
    "    start_time = time.time()\n",
    "\n",
    "    mu = np.ones_like(x)\n",
    "\n",
    "    if verbose:\n",
    "        print_iteration(0, func(x, A, mu), x)\n",
    "\n",
    "    for iteration in range(1, int(max_iters)+1):\n",
    "\n",
    "        delta_x = grad_func(x, A, mu)\n",
    "        exact_alpha = get_exact_line_alpha(func, x, A, mu, delta_x, max_s, step_s)\n",
    "\n",
    "        if np.linalg.norm(delta_x) < epsilon or not exact_alpha:\n",
    "            if verbose:\n",
    "                print('STOP Condition')\n",
    "            break\n",
    "\n",
    "        if verbose:\n",
    "            print(f'Selected alpha is {exact_alpha}')\n",
    "\n",
    "        x -= exact_alpha * delta_x\n",
    "\n",
    "        if verbose:\n",
    "            print_iteration(iteration, func(x, A, mu), x)\n",
    "\n",
    "    end_time = time.time()\n",
    "\n",
    "    result = GradDescentResult(x=x,\n",
    "                               y=func(x, A, mu),\n",
    "                               time=end_time-start_time,\n",
    "                               iterations=iteration,\n",
    "                               accuracy=np.linalg.norm(grad_func(x, A, mu)))\n",
    "    if verbose:\n",
    "        print(f'Optimal y: {result.y}, obtained in {result.x}')\n",
    "    return result"
   ]
  },
  {
   "cell_type": "code",
   "execution_count": null,
   "metadata": {},
   "outputs": [
    {
     "ename": "KeyboardInterrupt",
     "evalue": "",
     "output_type": "error",
     "traceback": [
      "\u001b[0;31m---------------------------------------------------------------------------\u001b[0m",
      "\u001b[0;31mKeyboardInterrupt\u001b[0m                         Traceback (most recent call last)",
      "Cell \u001b[0;32mIn[11], line 8\u001b[0m\n\u001b[1;32m      4\u001b[0m \u001b[38;5;28;01mfor\u001b[39;00m test_case_id, test_case \u001b[38;5;129;01min\u001b[39;00m \u001b[38;5;28menumerate\u001b[39m(test_cases):\n\u001b[1;32m      6\u001b[0m     \u001b[38;5;28;01mfor\u001b[39;00m x_started \u001b[38;5;129;01min\u001b[39;00m test_case\u001b[38;5;241m.\u001b[39mdefault_x:\n\u001b[0;32m----> 8\u001b[0m         result \u001b[38;5;241m=\u001b[39m \u001b[43mgrad_desc_exact_line\u001b[49m\u001b[43m(\u001b[49m\u001b[43mx\u001b[49m\u001b[38;5;241;43m=\u001b[39;49m\u001b[43mx_started\u001b[49m\u001b[43m,\u001b[49m\u001b[43m \u001b[49m\u001b[43mA\u001b[49m\u001b[38;5;241;43m=\u001b[39;49m\u001b[43mtest_case\u001b[49m\u001b[38;5;241;43m.\u001b[39;49m\u001b[43mA\u001b[49m\u001b[43m,\u001b[49m\u001b[43m \u001b[49m\u001b[43mfunc\u001b[49m\u001b[38;5;241;43m=\u001b[39;49m\u001b[43mfunction\u001b[49m\u001b[43m,\u001b[49m\u001b[43m \u001b[49m\u001b[43mgrad_func\u001b[49m\u001b[38;5;241;43m=\u001b[39;49m\u001b[43mgrad_function\u001b[49m\u001b[43m,\u001b[49m\u001b[43m \u001b[49m\u001b[43mverbose\u001b[49m\u001b[38;5;241;43m=\u001b[39;49m\u001b[38;5;28;43;01mFalse\u001b[39;49;00m\u001b[43m)\u001b[49m\n\u001b[1;32m     10\u001b[0m         test_case\u001b[38;5;241m.\u001b[39mmy_x\u001b[38;5;241m.\u001b[39mappend(result\u001b[38;5;241m.\u001b[39mx)\n\u001b[1;32m     11\u001b[0m         test_case\u001b[38;5;241m.\u001b[39mtime\u001b[38;5;241m.\u001b[39mappend(result\u001b[38;5;241m.\u001b[39mtime)\n",
      "Cell \u001b[0;32mIn[10], line 45\u001b[0m, in \u001b[0;36mgrad_desc_exact_line\u001b[0;34m(x, A, func, grad_func, epsilon, max_iters, max_s, step_s, verbose)\u001b[0m\n\u001b[1;32m     42\u001b[0m \u001b[38;5;28;01mfor\u001b[39;00m iteration \u001b[38;5;129;01min\u001b[39;00m \u001b[38;5;28mrange\u001b[39m(\u001b[38;5;241m1\u001b[39m, \u001b[38;5;28mint\u001b[39m(max_iters)\u001b[38;5;241m+\u001b[39m\u001b[38;5;241m1\u001b[39m):\n\u001b[1;32m     44\u001b[0m     delta_x \u001b[38;5;241m=\u001b[39m grad_func(x, A, mu)\n\u001b[0;32m---> 45\u001b[0m     exact_alpha \u001b[38;5;241m=\u001b[39m \u001b[43mget_exact_line_alpha\u001b[49m\u001b[43m(\u001b[49m\u001b[43mfunc\u001b[49m\u001b[43m,\u001b[49m\u001b[43m \u001b[49m\u001b[43mx\u001b[49m\u001b[43m,\u001b[49m\u001b[43m \u001b[49m\u001b[43mA\u001b[49m\u001b[43m,\u001b[49m\u001b[43m \u001b[49m\u001b[43mmu\u001b[49m\u001b[43m,\u001b[49m\u001b[43m \u001b[49m\u001b[43mdelta_x\u001b[49m\u001b[43m,\u001b[49m\u001b[43m \u001b[49m\u001b[43mmax_s\u001b[49m\u001b[43m,\u001b[49m\u001b[43m \u001b[49m\u001b[43mstep_s\u001b[49m\u001b[43m)\u001b[49m\n\u001b[1;32m     47\u001b[0m     \u001b[38;5;28;01mif\u001b[39;00m np\u001b[38;5;241m.\u001b[39mlinalg\u001b[38;5;241m.\u001b[39mnorm(delta_x) \u001b[38;5;241m<\u001b[39m epsilon \u001b[38;5;129;01mor\u001b[39;00m \u001b[38;5;129;01mnot\u001b[39;00m exact_alpha:\n\u001b[1;32m     48\u001b[0m         \u001b[38;5;28;01mif\u001b[39;00m verbose:\n",
      "Cell \u001b[0;32mIn[10], line 9\u001b[0m, in \u001b[0;36mget_exact_line_alpha\u001b[0;34m(func, x, A, mu, delta_x, max_s, step_s)\u001b[0m\n\u001b[1;32m      5\u001b[0m \u001b[38;5;28;01mdef\u001b[39;00m \u001b[38;5;21mget_exact_line_alpha\u001b[39m(func: Callable,\n\u001b[1;32m      6\u001b[0m                          x: NDArray, A: NDArray, mu: NDArray, delta_x: NDArray,\n\u001b[1;32m      7\u001b[0m                          max_s: \u001b[38;5;28mfloat\u001b[39m \u001b[38;5;241m=\u001b[39m \u001b[38;5;241m1.\u001b[39m, step_s: \u001b[38;5;28mfloat\u001b[39m \u001b[38;5;241m=\u001b[39m \u001b[38;5;241m0.001\u001b[39m) \u001b[38;5;241m-\u001b[39m\u001b[38;5;241m>\u001b[39m \u001b[38;5;28mfloat\u001b[39m:\n\u001b[1;32m      8\u001b[0m     s_values \u001b[38;5;241m=\u001b[39m np\u001b[38;5;241m.\u001b[39marange(\u001b[38;5;241m0\u001b[39m, max_s, step_s)\n\u001b[0;32m----> 9\u001b[0m     func_results \u001b[38;5;241m=\u001b[39m \u001b[43m[\u001b[49m\u001b[43mfunc\u001b[49m\u001b[43m(\u001b[49m\u001b[43mx\u001b[49m\u001b[38;5;241;43m-\u001b[39;49m\u001b[43ms\u001b[49m\u001b[38;5;241;43m*\u001b[39;49m\u001b[43mdelta_x\u001b[49m\u001b[43m,\u001b[49m\u001b[43m \u001b[49m\u001b[43mA\u001b[49m\u001b[43m,\u001b[49m\u001b[43m \u001b[49m\u001b[43mmu\u001b[49m\u001b[43m)\u001b[49m\u001b[43m \u001b[49m\u001b[38;5;28;43;01mfor\u001b[39;49;00m\u001b[43m \u001b[49m\u001b[43ms\u001b[49m\u001b[43m \u001b[49m\u001b[38;5;129;43;01min\u001b[39;49;00m\u001b[43m \u001b[49m\u001b[43ms_values\u001b[49m\u001b[43m]\u001b[49m\n\u001b[1;32m     10\u001b[0m     \u001b[38;5;28;01mreturn\u001b[39;00m s_values[np\u001b[38;5;241m.\u001b[39margmin(func_results)]\n",
      "Cell \u001b[0;32mIn[10], line 9\u001b[0m, in \u001b[0;36m<listcomp>\u001b[0;34m(.0)\u001b[0m\n\u001b[1;32m      5\u001b[0m \u001b[38;5;28;01mdef\u001b[39;00m \u001b[38;5;21mget_exact_line_alpha\u001b[39m(func: Callable,\n\u001b[1;32m      6\u001b[0m                          x: NDArray, A: NDArray, mu: NDArray, delta_x: NDArray,\n\u001b[1;32m      7\u001b[0m                          max_s: \u001b[38;5;28mfloat\u001b[39m \u001b[38;5;241m=\u001b[39m \u001b[38;5;241m1.\u001b[39m, step_s: \u001b[38;5;28mfloat\u001b[39m \u001b[38;5;241m=\u001b[39m \u001b[38;5;241m0.001\u001b[39m) \u001b[38;5;241m-\u001b[39m\u001b[38;5;241m>\u001b[39m \u001b[38;5;28mfloat\u001b[39m:\n\u001b[1;32m      8\u001b[0m     s_values \u001b[38;5;241m=\u001b[39m np\u001b[38;5;241m.\u001b[39marange(\u001b[38;5;241m0\u001b[39m, max_s, step_s)\n\u001b[0;32m----> 9\u001b[0m     func_results \u001b[38;5;241m=\u001b[39m [func(x\u001b[38;5;241m-\u001b[39ms\u001b[38;5;241m*\u001b[39mdelta_x, A, mu) \u001b[38;5;28;01mfor\u001b[39;00m s \u001b[38;5;129;01min\u001b[39;00m s_values]\n\u001b[1;32m     10\u001b[0m     \u001b[38;5;28;01mreturn\u001b[39;00m s_values[np\u001b[38;5;241m.\u001b[39margmin(func_results)]\n",
      "\u001b[0;31mKeyboardInterrupt\u001b[0m: "
     ]
    },
    {
     "ename": "KeyboardInterrupt",
     "evalue": "",
     "output_type": "error",
     "traceback": [
      "\u001b[0;31m---------------------------------------------------------------------------\u001b[0m",
      "\u001b[0;31mKeyboardInterrupt\u001b[0m                         Traceback (most recent call last)",
      "Cell \u001b[0;32mIn[12], line 8\u001b[0m\n\u001b[1;32m      4\u001b[0m \u001b[38;5;28;01mfor\u001b[39;00m test_case_id, test_case \u001b[38;5;129;01min\u001b[39;00m \u001b[38;5;28menumerate\u001b[39m(test_cases):\n\u001b[1;32m      6\u001b[0m     \u001b[38;5;28;01mfor\u001b[39;00m x_started \u001b[38;5;129;01min\u001b[39;00m test_case\u001b[38;5;241m.\u001b[39mdefault_x:\n\u001b[0;32m----> 8\u001b[0m         result \u001b[38;5;241m=\u001b[39m \u001b[43mgrad_desc_exact_line\u001b[49m\u001b[43m(\u001b[49m\u001b[43mx\u001b[49m\u001b[38;5;241;43m=\u001b[39;49m\u001b[43mx_started\u001b[49m\u001b[43m,\u001b[49m\u001b[43m \u001b[49m\u001b[43mA\u001b[49m\u001b[38;5;241;43m=\u001b[39;49m\u001b[43mtest_case\u001b[49m\u001b[38;5;241;43m.\u001b[39;49m\u001b[43mA\u001b[49m\u001b[43m,\u001b[49m\u001b[43m \u001b[49m\u001b[43mfunc\u001b[49m\u001b[38;5;241;43m=\u001b[39;49m\u001b[43mfunction\u001b[49m\u001b[43m,\u001b[49m\u001b[43m \u001b[49m\u001b[43mgrad_func\u001b[49m\u001b[38;5;241;43m=\u001b[39;49m\u001b[43mgrad_function\u001b[49m\u001b[43m,\u001b[49m\u001b[43m \u001b[49m\u001b[43mverbose\u001b[49m\u001b[38;5;241;43m=\u001b[39;49m\u001b[38;5;28;43;01mFalse\u001b[39;49;00m\u001b[43m)\u001b[49m\n\u001b[1;32m     10\u001b[0m         test_case\u001b[38;5;241m.\u001b[39mmy_x\u001b[38;5;241m.\u001b[39mappend(result\u001b[38;5;241m.\u001b[39mx)\n\u001b[1;32m     11\u001b[0m         test_case\u001b[38;5;241m.\u001b[39mtime\u001b[38;5;241m.\u001b[39mappend(result\u001b[38;5;241m.\u001b[39mtime)\n",
      "Cell \u001b[0;32mIn[10], line 45\u001b[0m, in \u001b[0;36mgrad_desc_exact_line\u001b[0;34m(x, A, func, grad_func, epsilon, max_iters, max_s, step_s, verbose)\u001b[0m\n\u001b[1;32m     42\u001b[0m \u001b[38;5;28;01mfor\u001b[39;00m iteration \u001b[38;5;129;01min\u001b[39;00m \u001b[38;5;28mrange\u001b[39m(\u001b[38;5;241m1\u001b[39m, \u001b[38;5;28mint\u001b[39m(max_iters)\u001b[38;5;241m+\u001b[39m\u001b[38;5;241m1\u001b[39m):\n\u001b[1;32m     44\u001b[0m     delta_x \u001b[38;5;241m=\u001b[39m grad_func(x, A, mu)\n\u001b[0;32m---> 45\u001b[0m     exact_alpha \u001b[38;5;241m=\u001b[39m \u001b[43mget_exact_line_alpha\u001b[49m\u001b[43m(\u001b[49m\u001b[43mfunc\u001b[49m\u001b[43m,\u001b[49m\u001b[43m \u001b[49m\u001b[43mx\u001b[49m\u001b[43m,\u001b[49m\u001b[43m \u001b[49m\u001b[43mA\u001b[49m\u001b[43m,\u001b[49m\u001b[43m \u001b[49m\u001b[43mmu\u001b[49m\u001b[43m,\u001b[49m\u001b[43m \u001b[49m\u001b[43mdelta_x\u001b[49m\u001b[43m,\u001b[49m\u001b[43m \u001b[49m\u001b[43mmax_s\u001b[49m\u001b[43m,\u001b[49m\u001b[43m \u001b[49m\u001b[43mstep_s\u001b[49m\u001b[43m)\u001b[49m\n\u001b[1;32m     47\u001b[0m     \u001b[38;5;28;01mif\u001b[39;00m np\u001b[38;5;241m.\u001b[39mlinalg\u001b[38;5;241m.\u001b[39mnorm(delta_x) \u001b[38;5;241m<\u001b[39m epsilon \u001b[38;5;129;01mor\u001b[39;00m \u001b[38;5;129;01mnot\u001b[39;00m exact_alpha:\n\u001b[1;32m     48\u001b[0m         \u001b[38;5;28;01mif\u001b[39;00m verbose:\n",
      "Cell \u001b[0;32mIn[10], line 9\u001b[0m, in \u001b[0;36mget_exact_line_alpha\u001b[0;34m(func, x, A, mu, delta_x, max_s, step_s)\u001b[0m\n\u001b[1;32m      5\u001b[0m \u001b[38;5;28;01mdef\u001b[39;00m \u001b[38;5;21mget_exact_line_alpha\u001b[39m(func: Callable,\n\u001b[1;32m      6\u001b[0m                          x: NDArray, A: NDArray, mu: NDArray, delta_x: NDArray,\n\u001b[1;32m      7\u001b[0m                          max_s: \u001b[38;5;28mfloat\u001b[39m \u001b[38;5;241m=\u001b[39m \u001b[38;5;241m1.\u001b[39m, step_s: \u001b[38;5;28mfloat\u001b[39m \u001b[38;5;241m=\u001b[39m \u001b[38;5;241m0.001\u001b[39m) \u001b[38;5;241m-\u001b[39m\u001b[38;5;241m>\u001b[39m \u001b[38;5;28mfloat\u001b[39m:\n\u001b[1;32m      8\u001b[0m     s_values \u001b[38;5;241m=\u001b[39m np\u001b[38;5;241m.\u001b[39marange(\u001b[38;5;241m0\u001b[39m, max_s, step_s)\n\u001b[0;32m----> 9\u001b[0m     func_results \u001b[38;5;241m=\u001b[39m \u001b[43m[\u001b[49m\u001b[43mfunc\u001b[49m\u001b[43m(\u001b[49m\u001b[43mx\u001b[49m\u001b[38;5;241;43m-\u001b[39;49m\u001b[43ms\u001b[49m\u001b[38;5;241;43m*\u001b[39;49m\u001b[43mdelta_x\u001b[49m\u001b[43m,\u001b[49m\u001b[43m \u001b[49m\u001b[43mA\u001b[49m\u001b[43m,\u001b[49m\u001b[43m \u001b[49m\u001b[43mmu\u001b[49m\u001b[43m)\u001b[49m\u001b[43m \u001b[49m\u001b[38;5;28;43;01mfor\u001b[39;49;00m\u001b[43m \u001b[49m\u001b[43ms\u001b[49m\u001b[43m \u001b[49m\u001b[38;5;129;43;01min\u001b[39;49;00m\u001b[43m \u001b[49m\u001b[43ms_values\u001b[49m\u001b[43m]\u001b[49m\n\u001b[1;32m     10\u001b[0m     \u001b[38;5;28;01mreturn\u001b[39;00m s_values[np\u001b[38;5;241m.\u001b[39margmin(func_results)]\n",
      "Cell \u001b[0;32mIn[10], line 9\u001b[0m, in \u001b[0;36m<listcomp>\u001b[0;34m(.0)\u001b[0m\n\u001b[1;32m      5\u001b[0m \u001b[38;5;28;01mdef\u001b[39;00m \u001b[38;5;21mget_exact_line_alpha\u001b[39m(func: Callable,\n\u001b[1;32m      6\u001b[0m                          x: NDArray, A: NDArray, mu: NDArray, delta_x: NDArray,\n\u001b[1;32m      7\u001b[0m                          max_s: \u001b[38;5;28mfloat\u001b[39m \u001b[38;5;241m=\u001b[39m \u001b[38;5;241m1.\u001b[39m, step_s: \u001b[38;5;28mfloat\u001b[39m \u001b[38;5;241m=\u001b[39m \u001b[38;5;241m0.001\u001b[39m) \u001b[38;5;241m-\u001b[39m\u001b[38;5;241m>\u001b[39m \u001b[38;5;28mfloat\u001b[39m:\n\u001b[1;32m      8\u001b[0m     s_values \u001b[38;5;241m=\u001b[39m np\u001b[38;5;241m.\u001b[39marange(\u001b[38;5;241m0\u001b[39m, max_s, step_s)\n\u001b[0;32m----> 9\u001b[0m     func_results \u001b[38;5;241m=\u001b[39m [func(x\u001b[38;5;241m-\u001b[39ms\u001b[38;5;241m*\u001b[39mdelta_x, A, mu) \u001b[38;5;28;01mfor\u001b[39;00m s \u001b[38;5;129;01min\u001b[39;00m s_values]\n\u001b[1;32m     10\u001b[0m     \u001b[38;5;28;01mreturn\u001b[39;00m s_values[np\u001b[38;5;241m.\u001b[39margmin(func_results)]\n",
      "\u001b[0;31mKeyboardInterrupt\u001b[0m: "
     ]
    }
   ],
   "source": [
    "for n, test_cases in test_data.items():\n",
    "    mu = np.ones(n)\n",
    "\n",
    "    for test_case_id, test_case in enumerate(test_cases):\n",
    "\n",
    "        for x_started in test_case.default_x:\n",
    "\n",
    "            result = grad_desc_exact_line(x=x_started, A=test_case.A, func=function, grad_func=grad_function, verbose=False)\n",
    "\n",
    "            test_case.my_x.append(result.x)\n",
    "            test_case.time.append(result.time)\n",
    "            test_case.num_iterations.append(result.iterations)\n",
    "            test_case.accuracy.append(result.accuracy)\n",
    "\n",
    "    print(f'[n={n}]: Avg time {np.mean(test_case.time):.6f} Avg iter {np.mean(test_case.num_iterations):.2f} Avg accuracy {np.mean(test_case.accuracy):.2f}', flush=True)"
   ]
  },
  {
   "cell_type": "markdown",
   "metadata": {},
   "source": [
    "4. Объясните принцип работы метода, опишите его преимущества и недостатки."
   ]
  },
  {
   "cell_type": "markdown",
   "metadata": {},
   "source": [
    "5. В качестве результата работы метода:"
   ]
  },
  {
   "cell_type": "markdown",
   "metadata": {},
   "source": [
    "[Done] Для каждого значения $n \\in \\{10,20,\\dots,100\\}$ подсчитайте среднее время работы метода и среднее число итераций (усреднение проводится по всем начальным точкам и по всем тестовым примерам)"
   ]
  },
  {
   "cell_type": "markdown",
   "metadata": {},
   "source": [
    "[Done] Для одного тестового примера при $n = 10$ и нескольких различных начальных точек постройте зависимость тонности от числа итераций. Зависит ли скорость сходимости метода от отношения максимального и минимального собственных чисел матрицы $A$?"
   ]
  },
  {
   "cell_type": "code",
   "execution_count": null,
   "metadata": {},
   "outputs": [
    {
     "data": {
      "text/plain": [
       "<matplotlib.collections.PathCollection at 0x15de9bd90>"
      ]
     },
     "execution_count": 27,
     "metadata": {},
     "output_type": "execute_result"
    },
    {
     "data": {
      "image/png": "[encoded data removed]",
      "text/plain": [
       "<Figure size 640x480 with 1 Axes>"
      ]
     },
     "metadata": {},
     "output_type": "display_data"
    }
   ],
   "source": [
    "test_case = test_data[10][0]\n",
    "\n",
    "plt.scatter(test_case.num_iterations, test_case.accuracy)"
   ]
  },
  {
   "cell_type": "code",
   "execution_count": null,
   "metadata": {},
   "outputs": [
    {
     "data": {
      "text/plain": [
       "<matplotlib.collections.PathCollection at 0x15def4810>"
      ]
     },
     "execution_count": 28,
     "metadata": {},
     "output_type": "execute_result"
    },
    {
     "data": {
      "image/png": "[encoded data removed]",
      "text/plain": [
       "<Figure size 640x480 with 1 Axes>"
      ]
     },
     "metadata": {},
     "output_type": "display_data"
    }
   ],
   "source": [
    "data_x = []\n",
    "data_y = []\n",
    "\n",
    "for test_case in test_data[10]:\n",
    "    eigenvalues = np.linalg.eigvals(test_case.A)\n",
    "    ratio = max(eigenvalues)/ min(eigenvalues)\n",
    "\n",
    "    data_x.append(ratio)\n",
    "    data_y.append(np.mean(test_case.num_iterations))\n",
    "plt.scatter(data_x, data_y)"
   ]
  }
 ],
 "metadata": {
  "kernelspec": {
   "display_name": "venv",
   "language": "python",
   "name": "python3"
  },
  "language_info": {
   "codemirror_mode": {
    "name": "ipython",
    "version": 3
   },
   "file_extension": ".py",
   "mimetype": "text/x-python",
   "name": "python",
   "nbconvert_exporter": "python",
   "pygments_lexer": "ipython3",
   "version": "3.11.6"
  }
 },
 "nbformat": 4,
 "nbformat_minor": 2
}
