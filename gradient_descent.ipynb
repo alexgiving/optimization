{
 "cells": [
  {
   "cell_type": "markdown",
   "metadata": {},
   "source": [
    "# Лабораторная работа №1\n",
    "## Градиентный спуск\n",
    "Трутнев Алексей Игоревич вариант №5"
   ]
  },
  {
   "cell_type": "code",
   "execution_count": 83,
   "metadata": {},
   "outputs": [],
   "source": [
    "import time\n",
    "from dataclasses import dataclass, field\n",
    "from collections import defaultdict\n",
    "from typing import Dict, List\n",
    "\n",
    "import numpy as np\n",
    "from numpy.typing import NDArray\n",
    "from typing import Callable\n",
    "from matplotlib import pyplot as plt\n",
    "import pickle\n",
    "\n",
    "import cvxpy as cp"
   ]
  },
  {
   "cell_type": "code",
   "execution_count": 84,
   "metadata": {},
   "outputs": [],
   "source": [
    "results_dump_file = 'results_dump_file.pkl'"
   ]
  },
  {
   "cell_type": "markdown",
   "metadata": {},
   "source": [
    "Задача оптимизации\n",
    "\n",
    "$\\min\\{ (x-\\mu_0)^\\top A (x-\\mu_0) : ||x||_2^2 \\leq 1 \\}$, где\n",
    "* $x \\in \\mathbb{R}^n$, $A$ - симметричная, положительно определенная матрица\n",
    "* $\\mu_0 = (1,1,\\dots,1)^\\top \\in \\mathbb{R}^n$"
   ]
  },
  {
   "cell_type": "code",
   "execution_count": 85,
   "metadata": {},
   "outputs": [],
   "source": [
    "def function(x: NDArray, A: NDArray, mu: NDArray) -> float:\n",
    "    return (x - mu).T @ A @ (x - mu)\n",
    "\n",
    "\n",
    "def limitation(x: NDArray) -> float:\n",
    "    return np.sum(np.power(x, 2))"
   ]
  },
  {
   "cell_type": "code",
   "execution_count": 86,
   "metadata": {},
   "outputs": [],
   "source": [
    "def check_symmetric(A: NDArray) -> bool:\n",
    "    return (A==A.T).all()\n",
    "\n",
    "\n",
    "def check_positive_definition(A: NDArray) -> bool:\n",
    "    n = A.shape[0]\n",
    "    test_x = np.random.random(n)\n",
    "    return (test_x.T @ A @ test_x) > 0\n",
    "\n",
    "\n",
    "def get_symmetric_matrix(n: int) -> NDArray:\n",
    "    A = np.random.rand(n, n)\n",
    "    matrix = A @ A.T\n",
    "    assert check_symmetric(matrix) and check_positive_definition(matrix)\n",
    "    return matrix"
   ]
  },
  {
   "cell_type": "markdown",
   "metadata": {},
   "source": [
    "### Ограничение\n",
    "$c(x) = ||x||_2^2 = \\sum_{i=1}^{n} x_i^2 \\leq 1$, где $x = (x_1, x_2, \\dots, x_n)^\\top \\in \\mathbb{R}^n$\n",
    "\n",
    "Градиент имеет вид: $\\nabla c(x) = (2x_1, 2x_2, \\dots, 2x_n)^\\top = 2x \\in \\mathbb{R}^n$\n",
    "\n",
    "\n",
    "### Функция\n",
    "$f(x) = (x-\\mu_0)^\\top A (x-\\mu_0)$\n",
    "\n",
    "Градиент имеет вид: $\\nabla x^\\top A x = (A+A^\\top)x =$ [при симметричной матрице $A$] $= 2Ax$"
   ]
  },
  {
   "cell_type": "code",
   "execution_count": 87,
   "metadata": {},
   "outputs": [],
   "source": [
    "def grad_function(x: NDArray, A: NDArray, mu: NDArray) -> NDArray:\n",
    "    return 2 * A @ (x - mu)\n",
    "\n",
    "\n",
    "def grad_limitation(x: NDArray) -> NDArray:\n",
    "    return 2 * x"
   ]
  },
  {
   "cell_type": "code",
   "execution_count": 88,
   "metadata": {},
   "outputs": [],
   "source": [
    "def check_optimality(x: NDArray, A: NDArray, mu: NDArray) -> bool:\n",
    "    return grad_limitation(x) @ -grad_function(x, A, mu) >= 0"
   ]
  },
  {
   "cell_type": "markdown",
   "metadata": {},
   "source": [
    "1. Исследование на выпуклость"
   ]
  },
  {
   "cell_type": "markdown",
   "metadata": {},
   "source": [
    "Дана квадратичная функция $f(x)=(x-\\mu_0)^\\top A (x-\\mu_0)$, где $A \\in \\mathbb{R}^{n^2}$ - симметричная, положительно определенная матрица. Ограничение $c(x)$ выпукло.\n",
    "Когда матрица коэффициентов $A$ - положительно определена, функция $f(x)$ будет выпуклой.\n",
    "\n",
    "\n",
    "Проверим этот факт через условие выпуклости:\n",
    "\n",
    "$f(\\lambda x + (1− \\lambda)y) \\leq \\lambda f(x) + (1− \\lambda)f(y)$, где $0 \\geq \\lambda \\leq 1$\n"
   ]
  },
  {
   "cell_type": "code",
   "execution_count": 89,
   "metadata": {},
   "outputs": [
    {
     "data": {
      "text/plain": [
       "True"
      ]
     },
     "execution_count": 89,
     "metadata": {},
     "output_type": "execute_result"
    }
   ],
   "source": [
    "test_n = 100\n",
    "test_A = get_symmetric_matrix(test_n)\n",
    "\n",
    "test_mu = np.ones(test_n)\n",
    "test_x = np.random.random(test_n)\n",
    "test_y = np.random.random(test_n)\n",
    "\n",
    "\n",
    "def test(test_x: NDArray, test_y: NDArray, test_A: NDArray, test_mu: NDArray, test_lambda: float) -> bool:\n",
    "    return function(test_lambda*test_x + (1-test_lambda)*test_y, test_A, test_mu) \\\n",
    "            <= test_lambda * function(test_x, test_A, test_mu) + (1-test_lambda) * function(test_y, test_A, test_mu)\n",
    "\n",
    "results = [\n",
    "    test(test_x, test_y, test_A, test_mu, test_lambda) for test_lambda in np.linspace(0, 1, 10)\n",
    "]\n",
    "\n",
    "all(results)"
   ]
  },
  {
   "cell_type": "markdown",
   "metadata": {},
   "source": [
    "2. Для каждого значения $n \\in \\{10, 20,\\dots, 100\\}$ сгенерируйте $N = 100$ тестовых примеров. В каждом случае найдите глобальный минимум, $x^* \\in \\mathbb{R}^n$, с помощью CVX. Проверьте, что в точке минимума выполняется условие оптимальности (т.е. вектора градиента к ограничению и антиградиента к целевой функции сонаправлены).\n"
   ]
  },
  {
   "cell_type": "markdown",
   "metadata": {},
   "source": [
    "### Описание тестовых данных\n",
    "\n",
    "Для проведения экспериментов согдана система хранения данных для экспериментов:\n",
    "\n",
    "* Размерность задачи $\\{10, 20, \\dots, 100\\}$\n",
    "    * Для каждого из них свой набор из 100 тестовых згначений матрицы $A$\n",
    "        * Для каждого из значения $A$ свой набор стартовых точек $x_{0}$"
   ]
  },
  {
   "cell_type": "code",
   "execution_count": 90,
   "metadata": {},
   "outputs": [],
   "source": [
    "@dataclass\n",
    "class TestCase:\n",
    "    A: NDArray\n",
    "    default_x: list[NDArray] = field(default_factory=list)\n",
    "    solver_x: NDArray = None\n",
    "    my_x: list[NDArray] = field(default_factory=list)\n",
    "    num_iterations: list[int] = field(default_factory=list)\n",
    "    time: list[int] = field(default_factory=list)\n",
    "    accuracy: list[float] = field(default_factory=list)\n",
    "\n",
    "\n",
    "def generate_data(min_dim: int, max_dim: int, step_dim: int, num_test_cases: int, num_experiments: int) -> Dict[int, List[TestCase]]:\n",
    "    dimensionality_range = range(min_dim, max_dim+1, step_dim)\n",
    "\n",
    "    data = defaultdict(list)\n",
    "    for n in dimensionality_range:\n",
    "        for _ in range(num_test_cases):\n",
    "            A = get_symmetric_matrix(n)\n",
    "            test_case = TestCase(A)\n",
    "            for _ in range(num_experiments):\n",
    "                x = np.random.random(n)\n",
    "                test_case.default_x.append(x)\n",
    "            data[n].append(test_case)\n",
    "    return data"
   ]
  },
  {
   "cell_type": "code",
   "execution_count": 94,
   "metadata": {},
   "outputs": [],
   "source": [
    "test_data = generate_data(\n",
    "    min_dim=10,\n",
    "    max_dim=100,\n",
    "    step_dim=10,\n",
    "    num_test_cases=100,\n",
    "    num_experiments=100\n",
    "    )"
   ]
  },
  {
   "cell_type": "code",
   "execution_count": 95,
   "metadata": {},
   "outputs": [],
   "source": [
    "float_calculation_tol = 1e-4\n",
    "\n",
    "for n, test_cases in test_data.items():\n",
    "    mu = np.ones(n)\n",
    "\n",
    "    for test_case in test_cases:\n",
    "        x_started = test_case.default_x[0]\n",
    "\n",
    "        x = cp.Variable(n)\n",
    "        optimization_func = cp.quad_form(x=(x - mu), P=test_case.A)\n",
    "        objective = cp.Minimize(optimization_func)\n",
    "\n",
    "        constraints = [\n",
    "            cp.sum_squares(x) <= 1\n",
    "        ]\n",
    "\n",
    "        problem = cp.Problem(objective, constraints)\n",
    "        problem.solve(solver=cp.SCS)\n",
    "\n",
    "        test_case.solver_x = x.value\n",
    "\n",
    "        if not check_optimality(x.value, test_case.A, mu):\n",
    "            print(f'Optimality condition is not satisfied.')\n",
    "\n",
    "        if limitation(x.value) - 1 > float_calculation_tol:\n",
    "            print('Constraint error')"
   ]
  },
  {
   "cell_type": "markdown",
   "metadata": {},
   "source": [
    "В данном эксперименте мы воспользовались библиотекой *cvxpy* и солвером *SCS* для решения выпуклой задачи оптимизации с ограничениями."
   ]
  },
  {
   "cell_type": "markdown",
   "metadata": {},
   "source": [
    "3. Для каждого значения $n \\in \\{10, 20,\\dots, 100\\}$ и для каждого тестового примера сгенерируйте 100 начальных точек. В зависимости от варианта реализуйте следующие методы решения задачи (1) для заданной точности $\\epsilon = 0.01$."
   ]
  },
  {
   "cell_type": "markdown",
   "metadata": {},
   "source": [
    "### Градиентный спуск c *Exact Line Search*\n",
    "\n",
    "Градиентный спуск с Exact Line Search — это метод оптимизации, используемый для нахождения минимума функции. Он основан на итеративном движении в направлении, противоположном градиенту функции в текущей точке, что соответствует направлению наискорейшего убывания функции.\n",
    "\n",
    "\n",
    "#### Принцип работы:\n",
    "\n",
    "1. **Вычисление градиента**: На каждом шаге вычисляется градиент функции потерь в текущей точке $x$. Градиент $\\nabla f(x)$ указывает направление наискорейшего роста функции.\n",
    "\n",
    "2. **Exact Line Search**: Затем выполняется поиск вдоль линии. Это означает, что в направлении, противоположном градиенту, ищется такой размер шага $s$, который минимизирует функцию потерь $f(x - s \\Delta x)$.\n",
    "\n",
    "3. **Обновление точки**: После того как найден оптимальный размер шага, текущая точка $x$ обновляется, чтобы приблизиться к минимуму функции.\n",
    "\n",
    "\n",
    "#### Формально может быть записан в виде:\n",
    "\n",
    "Повторять, пока не достигнуто условие остановки $||\\nabla f(x)||_{2} \\leq \\epsilon$, где $\\epsilon > 0$:\n",
    "1. Определить градиент функции в точке $\\Delta x = \\nabla f(x)$.\n",
    "2. *Exact Line Search*. Определить шаг алгоритма $s \\geq 0$:\n",
    "    1. Найти такой шаг градиента $s$ (*learning rate*), который приводит к наиболее оптимальному решению: $\\argmin_{s \\geq 0}f(x - s \\Delta x)$\n",
    "3. Обновление точки. $x = x - s\\Delta x$.\n",
    "\n",
    "\n",
    "#### Преимущества:\n",
    "\n",
    "- Exact Line Search позволяет точно определить размер шага на каждой итерации, что может ускорить сходимость к минимуму.\n",
    "- Отсутствие фиксированного параметра learning rate, фактически он подбирается автоматически для каждого шага оптимизации.\n",
    "- Простота имплементации.\n",
    "\n",
    "#### Недостатки:\n",
    "\n",
    "- Нахождение оптимального размера шага на каждом шаге может быть вычислительно затратным.\n",
    "- Метод может застрять в локальных минимумах, а не находить глобальный минимум.\n",
    "- Результат оптимизации может зависеть от выбора начальной точки.\n"
   ]
  },
  {
   "cell_type": "code",
   "execution_count": 79,
   "metadata": {},
   "outputs": [],
   "source": [
    "def print_verbose(string: str, verbose: bool) -> None:\n",
    "    if verbose:\n",
    "        print(string, flush=True)\n",
    "\n",
    "\n",
    "def print_iteration(iteration: int, y: int, x: NDArray, verbose: bool) -> None:\n",
    "    print_verbose(f'Iteration {iteration}, y: {y}, x: {x}', verbose)\n",
    "\n",
    "\n",
    "def get_exact_line_alpha(func: Callable,\n",
    "                         x: NDArray, A: NDArray, mu: NDArray, delta_x: NDArray,\n",
    "                         min_s: float = 0, max_s: float = 1., step_s: float = 0.001) -> float:\n",
    "    s_values = np.arange(min_s+step_s, max_s, step_s)\n",
    "    func_results = [func(x-s*delta_x, A, mu) for s in s_values]\n",
    "    return s_values[np.argmin(func_results)]\n",
    "\n",
    "\n",
    "@dataclass\n",
    "class GradDescentResult:\n",
    "    x: NDArray\n",
    "    y: float\n",
    "    time: float\n",
    "    iterations: int\n",
    "    accuracy: float\n",
    "\n",
    "\n",
    "def grad_desc_exact_line(*,\n",
    "                    x: NDArray,\n",
    "                    A: NDArray,\n",
    "                    func: Callable,\n",
    "                    grad_func: Callable,\n",
    "                    epsilon: float = 1.e-2,\n",
    "                    max_iters: int = 1e5,\n",
    "                    min_s: float = 0.,\n",
    "                    max_s: float = 0.5,\n",
    "                    step_s: float = 1e-5,\n",
    "                    verbose: bool = False) -> GradDescentResult:\n",
    "    \"\"\"\n",
    "    gradient descent with exact line minimization\n",
    "    \"\"\"\n",
    "    start_time = time.time()\n",
    "\n",
    "    mu = np.ones_like(x)\n",
    "\n",
    "    print_iteration(0, func(x, A, mu), x, verbose=verbose)\n",
    "\n",
    "    for iteration in range(1, int(max_iters)+1):\n",
    "\n",
    "        delta_x = grad_func(x, A, mu)\n",
    "\n",
    "        if np.linalg.norm(delta_x) < epsilon:\n",
    "            print_verbose('STOP Condition', verbose=verbose)\n",
    "            break\n",
    "\n",
    "        exact_alpha = get_exact_line_alpha(func, x, A, mu, delta_x, min_s, max_s, step_s)\n",
    "        print_verbose(f'Selected alpha is {exact_alpha}', verbose=verbose)\n",
    "\n",
    "        x -= exact_alpha * delta_x\n",
    "    else:\n",
    "        print_verbose('STOP Condition', verbose=verbose)\n",
    "\n",
    "    end_time = time.time()\n",
    "\n",
    "    result = GradDescentResult(x=x,\n",
    "                               y=func(x, A, mu),\n",
    "                               time=end_time-start_time,\n",
    "                               iterations=iteration,\n",
    "                               accuracy=np.linalg.norm(grad_func(x, A, mu)))\n",
    "    print_verbose(f'Optimal y: {result.y}, obtained in {result.x}', verbose=verbose)\n",
    "    return result"
   ]
  },
  {
   "cell_type": "code",
   "execution_count": 99,
   "metadata": {},
   "outputs": [
    {
     "name": "stdout",
     "output_type": "stream",
     "text": [
      "[n=10]: Avg time 1.699621 Avg iter 81.00 Avg accuracy 0.01\n",
      "[n=20]: Avg time 5.041990 Avg iter 226.00 Avg accuracy 0.01\n",
      "[n=30]: Avg time 13.225054 Avg iter 2991.00 Avg accuracy 0.01\n",
      "[n=40]: Avg time 16.305452 Avg iter 3648.50 Avg accuracy 0.01\n",
      "[n=50]: Avg time 19.149586 Avg iter 4075.00 Avg accuracy 0.01\n",
      "[n=60]: Avg time 49.831344 Avg iter 5873.50 Avg accuracy 0.02\n",
      "[n=70]: Avg time 89.318018 Avg iter 5503.00 Avg accuracy 0.01\n",
      "[n=80]: Avg time 100.137591 Avg iter 3507.00 Avg accuracy 0.01\n",
      "[n=90]: Avg time 385.716565 Avg iter 100000.00 Avg accuracy 19018.81\n",
      "\n"
     ]
    }
   ],
   "source": [
    "for n, test_cases in test_data.items():\n",
    "    mu = np.ones(n)\n",
    "\n",
    "    for test_case_id, test_case in enumerate(test_cases):\n",
    "\n",
    "        for x_started in test_case.default_x:\n",
    "\n",
    "            result = grad_desc_exact_line(x=x_started, A=test_case.A, func=function, grad_func=grad_function, verbose=False)\n",
    "\n",
    "            test_case.my_x.append(result.x)\n",
    "            test_case.time.append(result.time)\n",
    "            test_case.num_iterations.append(result.iterations)\n",
    "            test_case.accuracy.append(result.accuracy)\n",
    "\n",
    "    print(f'[n={n}]: Avg time {np.mean(test_case.time):.6f} Avg iter {np.mean(test_case.num_iterations):.2f} Avg accuracy {np.mean(test_case.accuracy):.2f}', flush=True)\n",
    "\n",
    "with open(results_dump_file, 'wb') as handle:\n",
    "    pickle.dump(test_data, handle)"
   ]
  },
  {
   "cell_type": "markdown",
   "metadata": {},
   "source": [
    "> Среднее время искажено, так как для экспериментов использовалось HW без активного охлаждения (Apple Silicon M1), на больших размерностях было заметено сильное снижение вычислительной мощности."
   ]
  },
  {
   "cell_type": "code",
   "execution_count": 13,
   "metadata": {},
   "outputs": [],
   "source": [
    "with open(results_dump_file, 'rb') as handle:\n",
    "    test_data = pickle.load(handle)"
   ]
  },
  {
   "cell_type": "markdown",
   "metadata": {},
   "source": [
    "[Done] Объясните принцип работы метода, опишите его преимущества и недостатки."
   ]
  },
  {
   "cell_type": "markdown",
   "metadata": {},
   "source": [
    "[Done] Для каждого значения $n \\in \\{10,20,\\dots,100\\}$ подсчитайте среднее время работы метода и среднее число итераций (усреднение проводится по всем начальным точкам и по всем тестовым примерам)"
   ]
  },
  {
   "cell_type": "markdown",
   "metadata": {},
   "source": [
    "[Done] Для одного тестового примера при $n = 10$ и нескольких различных начальных точек постройте зависимость точности от числа итераций. [Done] Зависит ли скорость сходимости метода от отношения максимального и минимального собственных чисел матрицы $A$?"
   ]
  },
  {
   "cell_type": "code",
   "execution_count": 14,
   "metadata": {},
   "outputs": [
    {
     "data": {
      "text/plain": [
       "Text(0, 0.5, 'Точность в виде $||\\\\nabla f(x)||_{2} $')"
      ]
     },
     "execution_count": 14,
     "metadata": {},
     "output_type": "execute_result"
    },
    {
     "data": {
      "image/png": "[encoded data removed]",
      "text/plain": [
       "<Figure size 640x480 with 1 Axes>"
      ]
     },
     "metadata": {},
     "output_type": "display_data"
    }
   ],
   "source": [
    "'''\n",
    "Для одного тестового примера при $n = 10$ и нескольких различных начальных\n",
    "точек постройте зависимость точности от числа итераций.\n",
    "'''\n",
    "\n",
    "test_case = test_data[10][0]\n",
    "\n",
    "axes = plt.gca()\n",
    "axes.scatter(test_case.num_iterations, test_case.accuracy)\n",
    "axes.set_xlabel('Число итераций')\n",
    "axes.set_ylabel('Точность в виде $||\\\\nabla f(x)||_{2} $')"
   ]
  },
  {
   "cell_type": "markdown",
   "metadata": {},
   "source": [
    "На тестовом наборе данных сильная зависимость точности от числа итераций не была выявлена. Это связано с тем, что какая бы начальная точка не была выбрана, критерий остановки - заданная точность 0.01. Для проверки гипотезы связи точности с количеством итераций, необходимо провести дополнительтный эксперимент, где критерий остановки алгоритма - $n$ итераций оптимизации."
   ]
  },
  {
   "cell_type": "code",
   "execution_count": 15,
   "metadata": {},
   "outputs": [
    {
     "data": {
      "text/plain": [
       "Text(0, 0.5, 'Число итераций (Скорость сходимости)')"
      ]
     },
     "execution_count": 15,
     "metadata": {},
     "output_type": "execute_result"
    },
    {
     "data": {
      "image/png": "[encoded data removed]",
      "text/plain": [
       "<Figure size 640x480 with 1 Axes>"
      ]
     },
     "metadata": {},
     "output_type": "display_data"
    }
   ],
   "source": [
    "'''Зависит ли скорость сходимости метода от отношения максимального\n",
    "и минимального собственных чисел матрицы $A$?\n",
    "'''\n",
    "\n",
    "data_x = []\n",
    "data_y = []\n",
    "\n",
    "for test_case in test_data[10]:\n",
    "    eigenvalues = np.linalg.eigvals(test_case.A)\n",
    "    ratio = max(eigenvalues)/ min(eigenvalues)\n",
    "\n",
    "    data_x.append(ratio)\n",
    "    data_y.append(np.mean(test_case.num_iterations))\n",
    "\n",
    "axes = plt.gca()\n",
    "axes.scatter(data_x, data_y)\n",
    "\n",
    "axes.set_xlabel('Отношения max и min собственных чисел $A$')\n",
    "axes.set_ylabel('Число итераций (Скорость сходимости)')"
   ]
  },
  {
   "cell_type": "markdown",
   "metadata": {},
   "source": [
    "В данном эксперименте мы моджем наблюдать отсутствие связи между числом итераций и максимальным отношением собственных чисел матрицы $A$. Однако на графике замметен выброс, причем при различных запусках, как минимум один выброс удается обнаружить. Возможно это связано с особенностями генерации матрицы $A$."
   ]
  }
 ],
 "metadata": {
  "kernelspec": {
   "display_name": "venv",
   "language": "python",
   "name": "python3"
  },
  "language_info": {
   "codemirror_mode": {
    "name": "ipython",
    "version": 3
   },
   "file_extension": ".py",
   "mimetype": "text/x-python",
   "name": "python",
   "nbconvert_exporter": "python",
   "pygments_lexer": "ipython3",
   "version": "3.11.6"
  }
 },
 "nbformat": 4,
 "nbformat_minor": 2
}
